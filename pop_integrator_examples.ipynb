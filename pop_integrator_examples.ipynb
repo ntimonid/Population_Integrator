{
 "cells": [
  {
   "cell_type": "markdown",
   "metadata": {},
   "source": [
    "### In case that your kernel does not have the following libraries installed ..."
   ]
  },
  {
   "cell_type": "raw",
   "metadata": {},
   "source": [
    "# Packages for installation\n",
    "\n",
    "!python3 -m pip install nibabel\n",
    "!python3 -m pip install opencv-python\n",
    "!python3 -m pip install allensdk\n",
    "!python3 -m pip install nibabel\n",
    "!python3 -m pip install pynrrd\n",
    "!python3 -m pip install matplotlib"
   ]
  },
  {
   "cell_type": "markdown",
   "metadata": {},
   "source": [
    "# Configuration"
   ]
  },
  {
   "cell_type": "code",
   "execution_count": 1,
   "metadata": {},
   "outputs": [
    {
     "name": "stdout",
     "output_type": "stream",
     "text": [
      "Set your path for the DeepSlice library: a\n",
      "Set your path for the ilastik software: a\n"
     ]
    }
   ],
   "source": [
    "%load_ext autoreload\n",
    "%autoreload 2\n",
    "\n",
    "from cfg import *\n",
    "sys.path.append('libraries')\n",
    "\n",
    "from utils import *\n",
    "import BrainPlotter_beta as BP\n",
    "\n",
    "sys.path.append('atlasoverlay')\n",
    "import atlasoverlay as ao\n",
    "\n",
    "import AllenRegistration as AR_Lib\n",
    "import VisuAlignLib\n",
    "import convertAllenSpace as CAS\n",
    "from flatmapper import FlatMapper\n",
    "\n",
    "current_path = os.path.abspath('../')  # to be replaced with os.getcwd()  \n",
    "# main_path = os.path.abspath('../../')  # To be removed ...\n",
    "\n",
    "# Choose directories for pre-process atlas files, flatmap files, input dataset and other code repositories \n",
    "data_repository = 'atlas_files' #os.path.join(main_path,'Data Repositories/mouse_connectivity')\n",
    "sys.path.append(data_repository)\n",
    "\n",
    "flatmap_repository = 'annotation_overlays'\n",
    "sys.path.append(flatmap_repository)\n",
    "\n",
    "dir_data = os.path.join(current_path, 'Datasets/BDA_double_classifier') # To be replaced with 'Datasets'\n",
    "sys.path.append(dir_data)\n",
    "\n",
    "# code_dir = os.path.join(main_path,'Code Repositories')  # Set your path for the code repositories here ...\n",
    "# sys.path.append(code_dir)\n",
    "\n",
    "# Choose your DeepSlice directory\n",
    "# dir_deepslice = os.path.join('/cortexdisk/data2/NestorRembrandtCollab/Code Repositories', 'DeepSlice/DeepSlice') \n",
    "dir_deepslice = input(\"Set your path for the DeepSlice library: \")\n",
    "sys.path.append(f'{dir_deepslice}')\n",
    "\n",
    "# Choose your ilastik classifier here\n",
    "classifier = os.path.join(os.getcwd(), 'Ilastik_Classifiers', 'universal_classifier_v06.ilp')\n",
    "\n",
    "# Choose a directory to save your output \n",
    "dir_img_output = 'Saves'  #os.path.join(current_path,'Saves')\n",
    "save_figure_dir = 'Figures' #os.path.join(current_path,'Figures')\n",
    "\n",
    "# Choose path to the ilastik tool - Change !!\n",
    "# ilastik_fname = 'ilastik-1.4.0rc5-Linux'\n",
    "# ilastik_path = os.path.join('/cortexdisk/data2/NestorRembrandtCollab/Code Repositories',ilastik_fname)\n",
    "ilastik_path = input(\"Set your path for the ilastik software: \")\n",
    "    "
   ]
  },
  {
   "cell_type": "code",
   "execution_count": 3,
   "metadata": {},
   "outputs": [],
   "source": [
    "# Replace with a configuration file\n",
    "\n",
    "# sections that require mirroring\n",
    "imgs2mir = {'BDA020': [145, 146, 147, 151, 156, 161], \n",
    "            'BDA048': [152, 153], \n",
    "            'BDA049': [137], \n",
    "            'BDA081': [143]}\n",
    "\n",
    "# sections that require rotation\n",
    "imgs2rot = {'BDA097': [141], \n",
    "            'BDA101': [151, 161]}\n",
    "\n",
    "\n",
    "datasets_to_check = os.listdir(dir_data)\n",
    "data_directory = [os.path.join(dir_data,val) for val in datasets_to_check]\n",
    "Marios_populations = ['BDA046','BDA050','BDA061','BDA074','BDA081','BDA089','BDA098']\n",
    "cmap = ['#FF0000','#FFFF00','#BF40BF','#00FFFF','#0000FF','#FFA500','#90EE90','#884400','#000088','#0088DD',\"#00FF00\"]\n",
    "\n",
    "source_area = 'VPM'\n",
    "\n",
    "# Here choose whether you want to save your registered files or load pre-computed ones\n",
    "save_registration = True\n",
    "load_registration = False\n"
   ]
  },
  {
   "cell_type": "markdown",
   "metadata": {},
   "source": [
    "# Load relevant atlas files"
   ]
  },
  {
   "cell_type": "code",
   "execution_count": 4,
   "metadata": {},
   "outputs": [],
   "source": [
    "# Get Allen atlas data either pre-computed or downloaded from the Allen Institute if not found\n",
    "res = 10\n",
    "annotation,acr2id,id2acr,ancestorsById,template = getAtlasData(data_repository, resolution = res)\n",
    "# YSK_annotation, ysk_hdr = nrrd.read(\"/cortexdisk/data2/NestorRembrandtCollab/Data Repositories/mouse_connectivity/YSK_annotation_10.nrrd\") # corrected path \n",
    "\n",
    "# Choose ilastik mode\n",
    "cls_splt = classifier.split('/')\n",
    "classifier_name = cls_splt[len(cls_splt)-1]\n",
    "classifier_mode = '\"Simple Segmentation\"'\n",
    "\n",
    "# Remove later, kept only for debugging purposes ...\n",
    "# orig_target_dict = pk.load(open('../Saves/test_target_dict.pkl','rb'))\n",
    "hex2rgb = lambda x : tuple(int(x.lstrip('#')[i:i+2], 16) for i in (0, 2, 4))\n",
    "target_color = []\n",
    "for pop in range(len(cmap)):\n",
    "    tmp_clr = hex2rgb(cmap[pop])\n",
    "    if tmp_clr == (0,0,0):\n",
    "        tmp_clr = [52,52,52]\n",
    "    target_color.append(tmp_clr)\n",
    "    "
   ]
  },
  {
   "cell_type": "markdown",
   "metadata": {},
   "source": [
    "# Choose which parts of the pipeline to perform/repeat ..."
   ]
  },
  {
   "cell_type": "code",
   "execution_count": 5,
   "metadata": {},
   "outputs": [],
   "source": [
    "do_downsampling = False\n",
    "do_fixes = False\n",
    "do_deepslice = False\n",
    "do_quicknii = False\n",
    "do_visualign = False\n",
    "do_pylastik = True\n",
    "do_register = False"
   ]
  },
  {
   "cell_type": "markdown",
   "metadata": {},
   "source": [
    "# Functions\n",
    "\n",
    "The following functions ask for several directories. They should be structured like this: \n",
    "\n",
    "    expdir (i.e.: 'BDA061', or whatever your experiment name is)\n",
    "        imgdir ('original_images', the folder where the input images are stored)\n",
    "        downdir ('import', the folder where the downsampled images are stored)"
   ]
  },
  {
   "cell_type": "code",
   "execution_count": null,
   "metadata": {},
   "outputs": [],
   "source": [
    "voxel_to_value_source = OrderedDict()\n",
    "voxel_to_value_target_left = OrderedDict()\n",
    "voxel_to_value_target_right = OrderedDict()\n",
    "\n",
    "# Remove ...\n",
    "exp_list = []\n",
    "\n",
    "# Iterate over all experiments ...\n",
    "successful_reg = 0\n",
    "\n",
    "for experiment_id in os.listdir(dir_data): \n",
    "    if experiment_id not in Marios_populations or load_registration is True: continue  # For debugging purposes, remove ...\n",
    "    print(experiment_id) \n",
    "    \n",
    "    in_dir = os.path.join(dir_data,experiment_id) \n",
    "    AR = AR_Lib.Allen_Registration(annotation, template, in_directory = data_repository, \n",
    "                                   in_res = res, soma_acr = source_area, acr2id = acr2id,\n",
    "                                   in_color = cmap[successful_reg], data_dir = dir_data,\n",
    "                                   experiment_id = experiment_id)#, annot2 = YSK_annotation)\n",
    "    \n",
    "    (expdir, imgdir, downdir) = AR_Lib.setup(experiment_id, dir_data)\n",
    "    \n",
    "    ''' Part I: Downsampling. Due to memory issues, \n",
    "        QuickNii only allows images whose area is smaller than 16 million pixels. \n",
    "        Therefore, the JP2 images have to be downsampled to the appropiate size. \n",
    "    '''\n",
    "    if do_downsampling is True:\n",
    "        print('Commencing downsampling')\n",
    "        AR_Lib.addnumbers(imgdir)\n",
    "        AR_Lib.downsample(imgdir, downdir) \n",
    "    \n",
    "    ''' Part II: Fixes (rotation, mirroring). Some sections were mounted onto the slide in the wrong position. \n",
    "        This has to be fixed. Some are flipped horizontally and require to be mirrored; \n",
    "        others are upside down, and require to be rotated 180 degrees. \n",
    "    '''\n",
    "    if do_fixes is True:\n",
    "        print('Commencing pre-processing fixes')\n",
    "        AR_Lib.rotate_imgs(downdir, imgs2rot, del_oldfile=True)\n",
    "        AR_Lib.mirror_imgs(downdir, imgs2mir, del_oldfile=True)\n",
    "    \n",
    "    ''' Part III: Apply DeepSlice to the input slices'''\n",
    "    if do_deepslice is True:\n",
    "        print('Commencing DeepSlice step')\n",
    "        AR_Lib.deepslice_analysis(expdir)\n",
    "    \n",
    "    ''' Part IV: Apply QuickNii to the slices after DeepSlice. \n",
    "        This QuickNii application is manual. Store output in xml.'''\n",
    "    if do_quicknii is True:\n",
    "        print('Commencing Quicknii step')\n",
    "        xml_file = f'{expdir}/{experiment_id}_deepslice.xml'\n",
    "        tree = ET.parse(xml_file)\n",
    "        root = tree.getroot()\n",
    "        AR_Lib.sortchildrenby(root, 'filename')\n",
    "        for child in root:\n",
    "            AR_Lib.sortchildrenby(child, 'filename')\n",
    "        tree.write(f'{xml_file[:-4]}_sorted.xml')\n",
    "    \n",
    "    ''' Part V: Apply VisuAlign to the data. This step is completely manual. \n",
    "        First, check that the QuickNii registration is satisfactory. \n",
    "        If not, make the appropiate corrections. \n",
    "        Then create the json file with the following code, load it into VisuAlign \n",
    "        and perform the non-linear registration. \n",
    "        Focus on the targeted areas (thalamus, cortex). \n",
    "    '''\n",
    "    if do_visualign is True:\n",
    "        print('Commencing VisuAlign step')\n",
    "        AR_Lib.xmltojson(xml_file)\n",
    "        for file in os.listdir(expdir): \n",
    "            if '.xml' not in file: continue\n",
    "            if 'manual' not in file: continue\n",
    "            print(file)\n",
    "        \n",
    "    ''' After the registration is done, make sure to: \n",
    "        - Use the option to export everything from VisuAlign, and save it in './data/export'\n",
    "        - Check that the downsampled images registered in VisuAlign are stored in './data/import'\n",
    "        - Save the output .json file from VisuAlign in './data'\n",
    "    '''\n",
    "    \n",
    "    ''' Part VI: Segment slices using Ilastik. un Ilastik in headless mode from Python through the pylastik function. \n",
    "        You'll need to manually train a classifier to run this step. If you encounter a problem, \n",
    "        first check that you can run the classifier manually. '''\n",
    "    \n",
    "    if do_pylastik is True:\n",
    "        print('Commencing Ilastik step')\n",
    "        AR_Lib.run_pylastik(in_dir, classifier_name, ilastik_path, classifier_mode)\n",
    "        # Reveal and clean Segmentation \n",
    "        AR_Lib.reveal(expdir)\n",
    "        AR_Lib.clean_segmentation(expdir) #Update soon ... #in_dir, in_slice['filename']) # Here I should clean the image ...\n",
    "    \n",
    "    ''' Part VII: Inverse mapping of slices to Allen CCF. First, search if the respective json file exists \n",
    "        and if it can be opened successfully.\n",
    "        If not, then the VisuAlign registration was not performed properly for this experiment,\n",
    "        and this population has thus to be skipped.'''\n",
    "    \n",
    "    if do_register is True:\n",
    "        print('Commencing inverse registration step')\n",
    "        reg_flag = AR.register_sections(experiment_id)\n",
    "        ## Separate the two hemispheres and flip them for visualization purposes \n",
    "        left_target_dict, right_target_dict = AR.split_hemisphere('target')\n",
    "    \n",
    "    ''' Part VIII: Storing the registered volumes to a population-wide 3D structure \n",
    "        for post-hoc analysis and visualization\\\n",
    "    '''\n",
    "    \n",
    "    successful_reg+=1\n",
    "    voxel_to_value_source[experiment_id] = AR.source_dict\n",
    "    voxel_to_value_target_left[experiment_id] = left_target_dict\n",
    "    voxel_to_value_target_right[experiment_id] = right_target_dict\n",
    "    \n",
    "    # Remove ...\n",
    "    tmp_clr = hex2rgb(cmap[pop])\n",
    "    if tmp_clr == (0,0,0):\n",
    "        tmp_clr = [52,52,52]\n",
    "    target_color.append(tmp_clr)\n",
    "    exp_list.append(experiment_id)\n",
    "    "
   ]
  },
  {
   "cell_type": "markdown",
   "metadata": {},
   "source": [
    "## Save your files, or load pre-computed ones"
   ]
  },
  {
   "cell_type": "code",
   "execution_count": 96,
   "metadata": {},
   "outputs": [],
   "source": [
    "if save_registration = True:\n",
    "    pk.dump(voxel_to_value_target_left, open('Saves/BDA_all_target_left_10.pkl','wb'))\n",
    "    pk.dump(voxel_to_value_target_right, open('Saves/BDA_all_target_right_10.pkl','wb'))\n",
    "    pk.dump(voxel_to_value_source, open('Saves/BDA_all_source_10.pkl','wb'))\n"
   ]
  },
  {
   "cell_type": "code",
   "execution_count": null,
   "metadata": {},
   "outputs": [],
   "source": [
    "if load_registration = True:\n",
    "    voxel_to_value_target_left = pk.load(open('Saves/BDA_all_target_left_10.pkl','rb'))\n",
    "    voxel_to_value_target_right = pk.load(open('Saves/BDA_all_target_right_10.pkl','rb'))\n",
    "    voxel_to_value_source = pk.load(open('Saves/BDA_all_source_10.pkl','rb'))\n"
   ]
  },
  {
   "cell_type": "markdown",
   "metadata": {},
   "source": [
    "## Cortical flatmap and subcortical visualization plots"
   ]
  },
  {
   "cell_type": "code",
   "execution_count": null,
   "metadata": {},
   "outputs": [],
   "source": [
    "data_dir = 'annotation_overlays/' #'/cortexdisk/data2/NestorRembrandtCollab/Data Repositories/annotation_overlays/'\n",
    "atlas_overlay_dir = 'atlasoverlay/'  \n",
    "flatmapper_dir = 'cortical_coordinates/' #os.path.join(main_path,'Rembrandt_works/flatmapper/cortical_coordinates')\n",
    "maps = ['top_view', 'dorsal_flatmap']\n",
    "annotation_types = ['YSK','allen']\n",
    "hemi_acr = 'left'\n",
    "\n",
    "# Fix savefile ..\n",
    "fimap = maps[0]\n",
    "for annot in annotation_types:\n",
    "    target_savefile = f'{save_figure_dir}/all_{fimap}_{res}um_{annot}_{hemi_acr}_{annot}'   #experiment_id                                   \n",
    "    \n",
    "    # Left hemisphere target plots ...\n",
    "    rgb_export_target = BP.plot_flatmap(voxel_to_value_target_left, proj_type = 'dorsal_flatmap', data_dir = data_dir, \n",
    "                                        atlas_overlay_dir = atlas_overlay_dir, flatmapper_dir = flatmapper_dir, \n",
    "                                        annot = annot, target_color = target_color, hemisphere = hemi_acr, \n",
    "                                        savefile = target_savefile + '_left')\n",
    "\n",
    "    # Right hemisphere target plots ...\n",
    "    rgb_export_target_r = BP.plot_flatmap(voxel_to_value_target_right, proj_type = 'dorsal_flatmap', data_dir = data_dir, \n",
    "                                          atlas_overlay_dir = atlas_overlay_dir, flatmapper_dir = flatmapper_dir, \n",
    "                                          annot = annot, target_color = target_color, hemisphere = hemi_acr, \n",
    "                                          savefile = target_savefile + '_right')\n",
    "\n",
    "# Source plots ...\n",
    "plane = 'IR' # We want coronal sections for now\n",
    "source_savefile = os.path.join(save_figure_dir,'BDA_all_{}_{}_left.svg'.format(source_area, plane))\n",
    "rgb_export_source = BP.plot_plane(voxel_to_value_source, annotation, template, acr2id, 'VPM', in_color = target_color, \n",
    "                                  in_path = atlas_overlay_dir, sel_axis = plane, orient = 'left', \n",
    "                                  savefile = source_savefile, style = 'max', section = None)\n"
   ]
  },
  {
   "cell_type": "markdown",
   "metadata": {},
   "source": [
    "## Plotting the laminar distribution of the populations"
   ]
  },
  {
   "cell_type": "code",
   "execution_count": 44,
   "metadata": {},
   "outputs": [
    {
     "data": {
      "image/png": "[encoded data removed]",
      "text/plain": [
       "<Figure size 432x288 with 1 Axes>"
      ]
     },
     "metadata": {
      "needs_background": "light"
     },
     "output_type": "display_data"
    },
    {
     "data": {
      "image/png": "[encoded data removed]",
      "text/plain": [
       "<Figure size 432x288 with 1 Axes>"
      ]
     },
     "metadata": {
      "needs_background": "light"
     },
     "output_type": "display_data"
    }
   ],
   "source": [
    "from itertools import cycle, islice\n",
    "\n",
    "''' The following two line is to be removed '''\n",
    "exp_list = list(voxel_to_value_source.keys())\n",
    "\n",
    "''' Extract laminar statistics '''\n",
    "area_layer_dict, axon_stats = AR.get_area_stats(voxel_to_value_target_left)\n",
    "\n",
    "''' Align the labels to the poster ones '''\n",
    "area_layer_dict_new = deepcopy(area_layer_dict)\n",
    "rename_index = {'BDA046': 'A', 'BDA061' : 'C', 'BDA081' : 'D', 'BDA089': 'B', 'BDA050': 'E', 'BDA074' : 'F', 'BDA098' : 'G'}\n",
    "area_layer_dict_new['SSp'] = area_layer_dict_new['SSp'].rename(index = rename_index).sort_index()\n",
    "area_layer_dict_new['SSp'] = area_layer_dict_new['SSp'].reindex(sorted(area_layer_dict_new['SSp'].columns)[::-1], axis=1)\n",
    "area_layer_dict_new['SSs'] = area_layer_dict_new['SSs'].rename(index = rename_index).sort_index()\n",
    "area_layer_dict_new['SSs'] = area_layer_dict_new['SSs'].reindex(sorted(area_layer_dict_new['SSs'].columns)[::-1], axis=1)\n",
    "\n",
    "''' Plot SSp populations '''\n",
    "plot1 = area_layer_dict_new['SSp'].plot(kind='bar', stacked=True, rot=0) #color = colors_ssp, \n",
    "ax = plt.gca()\n",
    "handles, labels = ax.get_legend_handles_labels()\n",
    "plot1.legend(handles[::-1], labels[::-1], bbox_to_anchor=(1.0, 1.0), fontsize=14)\n",
    "# fig1 = plot1.get_figure()\n",
    "# plt.savefig('Figures/population_barplot_ssp_{}_merged.eps'.format(experiment_id), bbox_inches = 'tight')\n",
    "plt.show()\n",
    "\n",
    "''' Plot SSs populations '''\n",
    "plot2 = area_layer_dict_new['SSs'].plot(kind='bar', stacked=True, rot=0) #color = colors_sss, \n",
    "ax = plt.gca()\n",
    "handles, labels = ax.get_legend_handles_labels()\n",
    "plot2.legend(handles[::-1], labels[::-1], bbox_to_anchor=(1.0, 1.0), fontsize=14)\n",
    "# fig2 = plot2.get_figure()\n",
    "# plt.savefig('Figures/population_barplot_sss_{}_merged.eps'.format(experiment_id), bbox_inches = 'tight')\n",
    "plt.show()\n",
    "\n"
   ]
  },
  {
   "cell_type": "markdown",
   "metadata": {},
   "source": [
    "## Connecting the pipeline to the SBA Composer "
   ]
  },
  {
   "cell_type": "code",
   "execution_count": 45,
   "metadata": {},
   "outputs": [],
   "source": [
    "import rpc_interface\n",
    "\n",
    "sbaHostAlpha = 'https://neuroinformatics.nl/sba-alpha/www'\n",
    "sbaHostIncf = 'https://sba-dev.incf.org'\n",
    "sbaInterface = rpc_interface.RpcInterface(\n",
    "  'sbaInterface',\n",
    "  remoteUrl = '{}/{}?{}'.format(sbaHostAlpha,'composer','template=ABA_v3&scene={\"background\":\"FFFFFF\"}'),\n",
    "  interfaceScript = sbaHostIncf+'/js/rpc-interface.js'\n",
    ")\n",
    "    "
   ]
  },
  {
   "cell_type": "code",
   "execution_count": null,
   "metadata": {},
   "outputs": [],
   "source": [
    "''' Iterate over all populations to build 3D point-objects that can be visualized using SBA '''\n",
    "for pop_idx,pop_name in enumerate(voxel_to_value_source.keys()):\n",
    " \n",
    "    print(pop_idx, pop_name, target_color[pop_idx])\n",
    "    \n",
    "    target_point_cloud = voxel_to_value_target_left[pop_name]\n",
    "    x3dScene, sbaCommand = AR.image_to_x3d(target_point_cloud, target_color[pop_idx], labelIndex = 2, \n",
    "                                           filename = pop_name + '_target')  \n",
    "    sbaInterface.send(sbaCommand)\n",
    "    \n",
    "    source_point_cloud = voxel_to_value_source[pop_name]\n",
    "    x3dScene, sbaCommand = AR.image_to_x3d(source_point_cloud, target_color[pop_idx], labelIndex = 3,  \n",
    "                                           filename = pop_name + '_soma')\n",
    "    sbaInterface.send(sbaCommand)\n",
    "    \n",
    "    "
   ]
  }
 ],
 "metadata": {
  "kernelspec": {
   "display_name": "Python 3",
   "language": "python",
   "name": "python3"
  },
  "language_info": {
   "codemirror_mode": {
    "name": "ipython",
    "version": 3
   },
   "file_extension": ".py",
   "mimetype": "text/x-python",
   "name": "python",
   "nbconvert_exporter": "python",
   "pygments_lexer": "ipython3",
   "version": "3.9.12"
  }
 },
 "nbformat": 4,
 "nbformat_minor": 2
}
