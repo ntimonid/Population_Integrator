{
 "cells": [
  {
   "cell_type": "code",
   "execution_count": 1,
   "id": "58b466de-2936-4ab4-83cf-c40204857176",
   "metadata": {},
   "outputs": [],
   "source": [
    "## LIBRARY CONFIGURATION\n",
    "%load_ext autoreload\n",
    "%autoreload 2\n",
    "    \n",
    "from cfg import *\n",
    "sys.path.append('libraries')\n",
    "\n",
    "from libraries.utils import *\n",
    "\n",
    "import libraries.AllenRegistration_beta as AR_Lib"
   ]
  },
  {
   "cell_type": "code",
   "execution_count": 2,
   "id": "a8bb6ee9-837b-412a-be5b-090cd5a7a45e",
   "metadata": {},
   "outputs": [],
   "source": [
    "## Function to be called in the parallel-processing loop, that treats each experiment-to-be-registered as a distinct Python dictionary\n",
    "\n",
    "def fast_section_registration(section_id, AllenData, section_dict, experiment_dir):\n",
    "\n",
    "    input_dict = {}\n",
    "    input_dict[section_id] = AR_Lib.ImageRegistration(AllenData, section_dict[section_id], experiment_dir)\n",
    "    input_dict[section_id].register_section()\n",
    "\n",
    "    return input_dict"
   ]
  },
  {
   "cell_type": "code",
   "execution_count": 3,
   "id": "df010e4f-895f-4b78-b178-b218f27e29b1",
   "metadata": {},
   "outputs": [],
   "source": [
    "## SETTING THE PATHS TO BE USED BY THE PIPELINE\n",
    "\n",
    "current_path = './' # to be replaced with os.getcwd()\n",
    "\n",
    "# Choose directories for pre-process atlas files, flatmap files, input dataset and other code repositories\n",
    "atlas_dir = 'atlas_files'\n",
    "sys.path.append(atlas_dir)\n",
    "\n",
    "flatmapper_dir = 'cortical_coordinates'\n",
    "sys.path.append(flatmapper_dir)\n",
    "\n",
    "dataset_dir = os.path.join(current_path, 'Datasets') # To be replaced with 'Datasets'\n",
    "sys.path.append(dataset_dir)"
   ]
  },
  {
   "cell_type": "code",
   "execution_count": 4,
   "id": "acf3bf68-e795-46ac-9e8f-3292331dc109",
   "metadata": {},
   "outputs": [],
   "source": [
    "# Choose a directory to save your output\n",
    "\n",
    "img_output_dir = os.path.join(current_path,'Saves')\n",
    "save_figure_dir = os.path.join(current_path,'Figures')\n",
    "\n",
    "# Configuration parameters\n",
    "resolution = 10 # Intiializing for 10 um resolution\n"
   ]
  },
  {
   "cell_type": "code",
   "execution_count": null,
   "id": "2131351e-4d02-4bb4-a3e0-cf403212a8d0",
   "metadata": {},
   "outputs": [],
   "source": [
    "#!!!! Parallel Approach !!!!!!!!!!!!!!!!!!!!\n",
    "\n",
    "AR_dict = OrderedDict()\n",
    "experiment_list = os.listdir(dataset_dir)\n",
    "\n",
    "\n",
    "# Initializing the AllenData constructor which acts as a fake-interface to each class generated for each section-to-be-registered: \n",
    "# the classes take all allen-data-related information from it\n",
    "\n",
    "AllenData = AR_Lib.AllenDataStore(flatmapper_dir, atlas_dir, resolution)\n",
    "\n",
    "for experiment_id in experiment_list:\n",
    "    \n",
    "    experiment_dir = os.path.join(dataset_dir, experiment_id)\n",
    "    section_dict = AR_Lib.get_section_info(experiment_dir)\n",
    "    if section_dict == -1: continue\n",
    "\n",
    "    partial_process_item = functools.partial(fast_section_registration, AllenData=AllenData, section_dict=section_dict,\n",
    "                                             experiment_dir=experiment_dir)\n",
    "\n",
    "    start_time = time.time()\n",
    "    AR_dict[experiment_id] = Parallel(n_jobs=2)(delayed(partial_process_item)(section_id) for section_id in section_dict.keys())\n",
    "    end_time = time.time()\n",
    "    print(f'{experiment_id} was registered in {np.round((end_time - start_time) / 60).astype(int)} minutes')\n",
    "\n",
    "    # AR_dict[experiment_id] = []\n",
    "    # for section_id in section_dict.keys():\n",
    "    #    AR_dict[experiment_id].append(partial_process_item(section_id))\n",
    "    #    break\n",
    "    \n",
    "    # The command below is required to reformat the list returned by the for-loop as a dictionary containing the section_ids and their registered section images\n",
    "    AR_dict[experiment_id] = reformat_as_dictionary(AR_dict[experiment_id])\n",
    "    \n"
   ]
  },
  {
   "cell_type": "markdown",
   "id": "878f9286-3c49-4264-9fcb-e70053a72577",
   "metadata": {},
   "source": [
    "### The following cell illustrates how to retrieve the flatmap coordinates and respective annotation for a given set of pixel coordinates belonging to a registered section image"
   ]
  },
  {
   "cell_type": "code",
   "execution_count": 12,
   "id": "361342dd-e999-4079-8647-5dcf0a8cedec",
   "metadata": {},
   "outputs": [
    {
     "name": "stdout",
     "output_type": "stream",
     "text": [
      "The corresponding voxel coordinates are: [ 423  119 1008],\n",
      "with annotation [background]\n",
      "Error! The coordinates must have 2 or 3 elements corresponding to flatmap or voxel coordinates!\n",
      "The corresponding flatmap coordinates are: [[-1 -1]],\n",
      "with annotation -1\n"
     ]
    }
   ],
   "source": [
    "# !! Warning !! The experiment id and section id that I am using here come from our BDA047 registered data. \n",
    "#  Obviously those are placeholders and as such you insert your dictionary keys there corresponding to your registered images\n",
    "# The pixel coordinates (2240, 8) are also arbitrary\n",
    "\n",
    "# To avoid the long name of the nested dictionary, I create a temporary pointer to use for calling \n",
    "# the functions related to the class instance of that registered section\n",
    "tmp_pointer = AR_dict['BDA047']['BDA047_010x_114_MinProj_cropped_downsampled5_s001']\n",
    "\n",
    "# Information retrieval for corresponding voxels\n",
    "corr_vox = tmp_pointer.give_me_corresponding_voxels([2240, 8])\n",
    "vox_annotation = AllenData.give_me_the_allen_annotation(corr_vox)\n",
    "print(f'The corresponding voxel coordinates are: {corr_vox},\\nwith annotation {vox_annotation}')\n",
    "\n",
    "# Information retrieval for corresponding flatmap points\n",
    "corr_flt_pts = tmp_pointer.give_me_flatmap_points([2240, 8])\n",
    "flt_annotation = AllenData.give_me_the_allen_annotation(corr_flt_pts)\n",
    "print(f'The corresponding flatmap coordinates are: {corr_flt_pts},\\nwith annotation {flt_annotation}')\n"
   ]
  }
 ],
 "metadata": {
  "kernelspec": {
   "display_name": "Python 3 (ipykernel)",
   "language": "python",
   "name": "python3"
  },
  "language_info": {
   "codemirror_mode": {
    "name": "ipython",
    "version": 3
   },
   "file_extension": ".py",
   "mimetype": "text/x-python",
   "name": "python",
   "nbconvert_exporter": "python",
   "pygments_lexer": "ipython3",
   "version": "3.10.4"
  }
 },
 "nbformat": 4,
 "nbformat_minor": 5
}
